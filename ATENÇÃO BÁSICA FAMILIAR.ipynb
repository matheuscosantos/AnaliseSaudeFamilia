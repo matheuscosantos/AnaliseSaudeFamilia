{
 "cells": [
  {
   "cell_type": "markdown",
   "metadata": {},
   "source": [
    "# SISTEMA DE INFORMAÇÃO DE ATENÇÃO BÁSICA - CADASTRAMENTO FAMILIAR\n",
    "## Anos : 2003 até 2015\n",
    "### Fonte: DATASUS (http://www2.datasus.gov.br)"
   ]
  },
  {
   "cell_type": "markdown",
   "metadata": {},
   "source": [
    "# Dados utilizados\n",
    "#### Atenção Básica - Saúde da Família - Cadastramento Famíliar - 2003 até 2015\n",
    "#### População Residente por Unidade da Federação segundo Município - 2003 até 2015\n",
    "#### Renda média domic. per capita segundo Município - Censo 2010\n",
    "#### Shapefile com os municípios do estado de São Paulo\n",
    "\n",
    "# Programas utilizados\n",
    "#### Python ( Linguagem de programação)\n",
    "#### Jupyter notebook (aplicação para desenvolvimento)\n",
    "#### Pandas(Biblioteca python para análise de dados)\n",
    "#### Geopandas(Biblioteca python para análise de dados geográficos)\n",
    "\n",
    "\n",
    "# Metodologia \n",
    "### Importação dos arquivos contendo os dados para o Python\n",
    "### Criação do arquivo com a união dos dados tabulares e geográficos\n",
    "### Criação dos índices:\n",
    "#### - Famílias atendidas/População em 2014\n",
    "#### - Famílias atendidas/População em 2003 - Famílias atendidas/População em 2014\n",
    "#### - Índice de crescimento sobre famílias atendidas pela saúde da família entre 2003 e 2014 (2014 - 2003)\n",
    "#### - Índice de Crescimento Populacional Entre 2003 e 2014 (2014 - 2003)"
   ]
  },
  {
   "cell_type": "code",
   "execution_count": 11,
   "metadata": {},
   "outputs": [],
   "source": [
    "import pandas as pd\n",
    "import geopandas as gpd\n",
    "import matplotlib.pyplot as plt\n",
    "from geopandas import GeoDataFrame\n",
    "from shapely.geometry import Point\n",
    "import pysal"
   ]
  },
  {
   "cell_type": "code",
   "execution_count": 12,
   "metadata": {},
   "outputs": [],
   "source": [
    "colunas = ('nome renda2010').split()\n",
    "\n",
    "renda2010 = pd.read_csv('./Renda/2010.csv', sep=';', encoding='ANSI', engine='python')\n",
    "renda2010.columns = colunas\n",
    "\n",
    "listaMunicipio = []\n",
    "\n",
    "for item in renda2010['nome']:\n",
    "    listaMunicipio.append(item[7:])\n",
    "    \n",
    "renda2010['nome'] = listaMunicipio    \n",
    "\n",
    "renda2010.nome = renda2010.nome.str.upper()\n",
    "#renda2010.sort_values(by='renda2010', ascending = False)"
   ]
  },
  {
   "cell_type": "code",
   "execution_count": 13,
   "metadata": {},
   "outputs": [],
   "source": [
    "colunas = ('nome familias2003').split()\n",
    "df2003 = pd.read_csv('./Familia/2003.csv', sep=';', encoding='ANSI')\n",
    "df2003.columns = colunas\n",
    "\n",
    "listaMunicipio = []\n",
    "\n",
    "for item in df2003['nome']:\n",
    "    listaMunicipio.append(item[7:])\n",
    "    \n",
    "df2003['nome'] = listaMunicipio   \n",
    "\n",
    "df2003.nome = df2003.nome.str.upper()"
   ]
  },
  {
   "cell_type": "code",
   "execution_count": 14,
   "metadata": {},
   "outputs": [],
   "source": [
    "colunas = ('nome familias2014').split()\n",
    "df2014 = pd.read_csv('./Familia/2014.csv', sep=';', encoding='ANSI')\n",
    "df2014.columns = colunas\n",
    "\n",
    "listaMunicipio = []\n",
    "\n",
    "for item in df2014['nome']:\n",
    "    listaMunicipio.append(item[7:])\n",
    "    \n",
    "df2014['nome'] = listaMunicipio \n",
    "\n",
    "df2014.nome = df2014.nome.str.upper()"
   ]
  },
  {
   "cell_type": "code",
   "execution_count": 15,
   "metadata": {
    "scrolled": false
   },
   "outputs": [],
   "source": [
    "colunas = ('nome populacao2003 apagar').split()\n",
    "\n",
    "populacao2003 = pd.read_csv('./População/2003.csv', sep=';', encoding='ANSI', engine='python')\n",
    "populacao2003.columns = colunas\n",
    "\n",
    "listaMunicipio = []\n",
    "\n",
    "for item in populacao2003['nome']:\n",
    "    listaMunicipio.append(item[7:])\n",
    "    \n",
    "populacao2003['nome'] = listaMunicipio    \n",
    "\n",
    "populacao2003.nome = populacao2003.nome.str.upper()\n",
    "populacao2003 = populacao2003.drop('apagar',1)"
   ]
  },
  {
   "cell_type": "code",
   "execution_count": 16,
   "metadata": {
    "scrolled": true
   },
   "outputs": [],
   "source": [
    "colunas = ('nome populacao2014').split()\n",
    "populacao2014 = pd.read_csv('./População/2014.csv', sep=';', encoding='ANSI', engine='python')\n",
    "populacao2014.columns = colunas\n",
    "\n",
    "listaMunicipio = []\n",
    "\n",
    "for item in populacao2014['nome']:\n",
    "    listaMunicipio.append(item[7:])\n",
    "    \n",
    "populacao2014['nome'] = listaMunicipio    \n",
    "\n",
    "populacao2014.nome = populacao2014.nome.str.upper()\n"
   ]
  },
  {
   "cell_type": "code",
   "execution_count": 17,
   "metadata": {},
   "outputs": [],
   "source": [
    "colunas = ('nome populacao2015').split()\n",
    "populacao2015 = pd.read_csv('./População/2015.csv', sep=';', encoding='ANSI', engine='python')\n",
    "populacao2015.columns = colunas\n",
    "\n",
    "listaMunicipio = []\n",
    "\n",
    "for item in populacao2015['nome']:\n",
    "    listaMunicipio.append(item[7:])\n",
    "    \n",
    "populacao2015['nome'] = listaMunicipio    \n",
    "\n",
    "populacao2015.nome = populacao2015.nome.str.upper()\n"
   ]
  },
  {
   "cell_type": "code",
   "execution_count": 18,
   "metadata": {},
   "outputs": [],
   "source": [
    "shp = gpd.read_file('./Shapefile/municipios.shp')\n",
    "colunas = ('nome','geocod','geometry')\n",
    "shp.columns = colunas\n",
    "shp = shp.set_index('geocod')"
   ]
  },
  {
   "cell_type": "code",
   "execution_count": 20,
   "metadata": {},
   "outputs": [],
   "source": [
    "merged = df2014.merge(shp,left_on='nome',right_on='nome',how='left')\n",
    "merged = df2003.merge(merged,left_on='nome',right_on='nome',how='left')\n",
    "merged = populacao2014.merge(merged,left_on='nome',right_on='nome',how='left')\n",
    "merged = populacao2003.merge(merged,left_on='nome',right_on='nome',how='left')\n",
    "merged = renda2010.merge(merged,left_on='nome',right_on='nome',how='left')\n",
    "\n",
    "merged = merged.dropna(subset=['populacao2003', 'populacao2014','geometry','familias2003','familias2014'])\n",
    "merged = GeoDataFrame(merged, crs=4674, geometry='geometry') ## geodataframe"
   ]
  },
  {
   "cell_type": "code",
   "execution_count": null,
   "metadata": {},
   "outputs": [],
   "source": [
    "merged['fam2014_2003'] = ((merged['familias2014']-merged['familias2003'])/merged['familias2003']) + 1\n",
    "merged['pop2014_2003'] = ((merged['populacao2014']-merged['populacao2003'])/merged['populacao2003']) + 1\n",
    "merged['indice'] = (merged['familias2003']/merged['populacao2003']) - (merged['familias2014']/merged['populacao2014'])\n",
    "merged['indfam2014'] = (merged['familias2014']/merged['populacao2014'])"
   ]
  },
  {
   "cell_type": "code",
   "execution_count": null,
   "metadata": {},
   "outputs": [],
   "source": [
    "classe = []\n",
    "for valor in merged['renda2010']:\n",
    "    if valor < 510:\n",
    "        classe.append('Baixa')\n",
    "    elif valor < 1020:\n",
    "        classe.append('Média')\n",
    "    else:\n",
    "        classe.append('Alta')\n",
    "        \n",
    "merged['classe'] = classe"
   ]
  },
  {
   "cell_type": "code",
   "execution_count": null,
   "metadata": {
    "scrolled": false
   },
   "outputs": [],
   "source": [
    "merged.plot(column = 'renda2010', figsize=(18,8),cmap='RdYlBu', scheme='fisher_jenks', k=9, legend=True)\n",
    "plt.title('Renda Média Domiciliar per Capita - Censo 2010', fontsize = 17)"
   ]
  },
  {
   "cell_type": "code",
   "execution_count": null,
   "metadata": {},
   "outputs": [],
   "source": [
    "merged.plot(column = 'classe', figsize=(18,8),cmap='Wistia', legend=True)\n",
    "plt.title('Divisão de Classes por Renda - Censo 2010', fontsize = 17)"
   ]
  },
  {
   "cell_type": "code",
   "execution_count": null,
   "metadata": {},
   "outputs": [],
   "source": [
    "merged.plot(column = 'indfam2014', figsize=(18,8),cmap='RdYlBu', scheme='fisher_jenks', k=9, legend=True)\n",
    "plt.title('Famílias atendidas/População em 2014', fontsize = 17)"
   ]
  },
  {
   "cell_type": "code",
   "execution_count": null,
   "metadata": {},
   "outputs": [],
   "source": [
    "merged.plot(column = 'indice', figsize=(18,8),cmap='RdYlBu', scheme='fisher_jenks', k=9, legend=True)\n",
    "plt.title('Famílias atendidas/População em 2003 - Famílias atendidas/População em 2014', fontsize = 17)"
   ]
  },
  {
   "cell_type": "code",
   "execution_count": null,
   "metadata": {
    "scrolled": false
   },
   "outputs": [],
   "source": [
    "merged.plot(column = 'fam2014_2003', figsize=(18,8),cmap='RdYlBu', scheme='fisher_jenks', k=9, legend=True)\n",
    "plt.title('Índice de crescimento sobre famílias atendidas pela saúde da família entre 2003 e 2014', fontsize = 15)"
   ]
  },
  {
   "cell_type": "code",
   "execution_count": null,
   "metadata": {
    "scrolled": false
   },
   "outputs": [],
   "source": [
    "merged.plot(column = 'pop2014_2003', figsize=(18,8),cmap='RdYlBu', scheme='fisher_jenks', k=9, legend=True)\n",
    "plt.title('Índice de Crescimento Populacional Entre 2003 e 2014', fontsize = 17)"
   ]
  }
 ],
 "metadata": {
  "kernelspec": {
   "display_name": "Python 3",
   "language": "python",
   "name": "python3"
  },
  "language_info": {
   "codemirror_mode": {
    "name": "ipython",
    "version": 3
   },
   "file_extension": ".py",
   "mimetype": "text/x-python",
   "name": "python",
   "nbconvert_exporter": "python",
   "pygments_lexer": "ipython3",
   "version": "3.6.0"
  }
 },
 "nbformat": 4,
 "nbformat_minor": 2
}
